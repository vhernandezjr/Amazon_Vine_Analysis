{
  "nbformat": 4,
  "nbformat_minor": 0,
  "metadata": {
    "colab": {
      "name": "Vine_Review_Analysis.ipynb",
      "provenance": [],
      "collapsed_sections": []
    },
    "kernelspec": {
      "name": "python3",
      "display_name": "Python 3"
    },
    "language_info": {
      "name": "python"
    }
  },
  "cells": [
    {
      "cell_type": "code",
      "execution_count": 1,
      "metadata": {
        "colab": {
          "base_uri": "https://localhost:8080/"
        },
        "id": "t6lB7OrOeJsB",
        "outputId": "c45d7c00-0044-4492-d0ad-e225a8c8b2bb"
      },
      "outputs": [
        {
          "output_type": "stream",
          "name": "stdout",
          "text": [
            "\r0% [Working]\r            \rGet:1 http://security.ubuntu.com/ubuntu bionic-security InRelease [88.7 kB]\n",
            "\r0% [Connecting to archive.ubuntu.com] [1 InRelease 14.2 kB/88.7 kB 16%] [Connec\r                                                                               \rHit:2 https://cloud.r-project.org/bin/linux/ubuntu bionic-cran40/ InRelease\n",
            "\r0% [Connecting to archive.ubuntu.com] [1 InRelease 88.7 kB/88.7 kB 100%] [Conne\r                                                                               \rHit:3 https://developer.download.nvidia.com/compute/cuda/repos/ubuntu1804/x86_64  InRelease\n",
            "\r0% [Connecting to archive.ubuntu.com (91.189.91.38)] [Waiting for headers] [Wai\r0% [2 InRelease gpgv 3,626 B] [Connecting to archive.ubuntu.com (91.189.91.38)]\r                                                                               \rHit:4 http://archive.ubuntu.com/ubuntu bionic InRelease\n",
            "\r                                                                               \r0% [2 InRelease gpgv 3,626 B] [Waiting for headers] [Waiting for headers]\r                                                                         \rGet:5 http://archive.ubuntu.com/ubuntu bionic-updates InRelease [88.7 kB]\n",
            "\r0% [2 InRelease gpgv 3,626 B] [5 InRelease 8,396 B/88.7 kB 9%] [Waiting for hea\r                                                                               \rHit:6 http://ppa.launchpad.net/c2d4u.team/c2d4u4.0+/ubuntu bionic InRelease\n",
            "Get:7 http://archive.ubuntu.com/ubuntu bionic-backports InRelease [74.6 kB]\n",
            "Ign:8 https://developer.download.nvidia.com/compute/machine-learning/repos/ubuntu1804/x86_64  InRelease\n",
            "Hit:9 https://developer.download.nvidia.com/compute/machine-learning/repos/ubuntu1804/x86_64  Release\n",
            "Hit:10 http://ppa.launchpad.net/cran/libgit2/ubuntu bionic InRelease\n",
            "Hit:11 http://ppa.launchpad.net/deadsnakes/ppa/ubuntu bionic InRelease\n",
            "Hit:12 http://ppa.launchpad.net/graphics-drivers/ppa/ubuntu bionic InRelease\n",
            "Fetched 252 kB in 3s (86.3 kB/s)\n",
            "Reading package lists... Done\n"
          ]
        }
      ],
      "source": [
        "import os\n",
        "# Find the latest version of spark 3.0 from http://www.apache.org/dist/spark/ and enter as the spark version\n",
        "# For example:\n",
        "# spark_version = 'spark-3.0.3'\n",
        "spark_version = 'spark-3.0.3'\n",
        "os.environ['SPARK_VERSION']=spark_version\n",
        "\n",
        "# Install Spark and Java\n",
        "!apt-get update\n",
        "!apt-get install openjdk-11-jdk-headless -qq > /dev/null\n",
        "!wget -q http://www.apache.org/dist/spark/$SPARK_VERSION/$SPARK_VERSION-bin-hadoop2.7.tgz\n",
        "!tar xf $SPARK_VERSION-bin-hadoop2.7.tgz\n",
        "!pip install -q findspark\n",
        "\n",
        "# Set Environment Variables\n",
        "import os\n",
        "os.environ[\"JAVA_HOME\"] = \"/usr/lib/jvm/java-11-openjdk-amd64\"\n",
        "os.environ[\"SPARK_HOME\"] = f\"/content/{spark_version}-bin-hadoop2.7\"\n",
        "\n",
        "# Start a SparkSession\n",
        "import findspark\n",
        "findspark.init()"
      ]
    },
    {
      "cell_type": "code",
      "source": [
        "from pyspark.sql import SparkSession\n",
        "spark = SparkSession.builder.appName(\"M16-Amazon-Challenge\").config(\"spark.driver.extraClassPath\",\"/content/postgresql-42.2.16.jar\").getOrCreate()"
      ],
      "metadata": {
        "id": "-ibBUzH-gWEk"
      },
      "execution_count": 2,
      "outputs": []
    },
    {
      "cell_type": "code",
      "source": [
        "from pyspark import SparkFiles\n",
        "url = \"https://s3.amazonaws.com/amazon-reviews-pds/tsv/amazon_reviews_us_Digital_Video_Games_v1_00.tsv.gz\"\n",
        "spark.sparkContext.addFile(url)\n",
        "df = spark.read.option(\"encoding\", \"UTF-8\").csv(SparkFiles.get(\"amazon_reviews_us_Digital_Video_Games_v1_00.tsv.gz\"), sep=\"\\t\", header=True, inferSchema=True)\n",
        "df.show(10)"
      ],
      "metadata": {
        "colab": {
          "base_uri": "https://localhost:8080/"
        },
        "id": "3FWgeSQFgbt2",
        "outputId": "0c1e50f9-8f1f-49a1-84bc-b8677ccb7458"
      },
      "execution_count": 3,
      "outputs": [
        {
          "output_type": "stream",
          "name": "stdout",
          "text": [
            "+-----------+-----------+--------------+----------+--------------+--------------------+-------------------+-----------+-------------+-----------+----+-----------------+--------------------+--------------------+-----------+\n",
            "|marketplace|customer_id|     review_id|product_id|product_parent|       product_title|   product_category|star_rating|helpful_votes|total_votes|vine|verified_purchase|     review_headline|         review_body|review_date|\n",
            "+-----------+-----------+--------------+----------+--------------+--------------------+-------------------+-----------+-------------+-----------+----+-----------------+--------------------+--------------------+-----------+\n",
            "|         US|   21269168| RSH1OZ87OYK92|B013PURRZW|     603406193|Madden NFL 16 - X...|Digital_Video_Games|          2|            2|          3|   N|                N|A slight improvem...|I keep buying mad...| 2015-08-31|\n",
            "|         US|     133437|R1WFOQ3N9BO65I|B00F4CEHNK|     341969535| Xbox Live Gift Card|Digital_Video_Games|          5|            0|          0|   N|                Y|          Five Stars|             Awesome| 2015-08-31|\n",
            "|         US|   45765011| R3YOOS71KM5M9|B00DNHLFQA|     951665344|Command & Conquer...|Digital_Video_Games|          5|            0|          0|   N|                Y|Hail to the great...|If you are preppi...| 2015-08-31|\n",
            "|         US|     113118|R3R14UATT3OUFU|B004RMK5QG|     395682204|Playstation Plus ...|Digital_Video_Games|          5|            0|          0|   N|                Y|          Five Stars|             Perfect| 2015-08-31|\n",
            "|         US|   22151364| RV2W9SGDNQA2C|B00G9BNLQE|     640460561|Saints Row IV - E...|Digital_Video_Games|          5|            0|          0|   N|                Y|          Five Stars|            Awesome!| 2015-08-31|\n",
            "|         US|   22151364|R3CFKLIZ0I2KOB|B00IMIL498|     621922192|Double Dragon: Ne...|Digital_Video_Games|          5|            0|          0|   N|                Y|          Five Stars|            Awesome!| 2015-08-31|\n",
            "|         US|   38426028|R1LRYU1V0T3O38|B00S00IJH8|     215163395|              Sims 4|Digital_Video_Games|          4|            0|          0|   N|                Y|i like the new sk...|i like the new sk...| 2015-08-31|\n",
            "|         US|    6057518| R44QKV6FE5CJ2|B004RMK4BC|     384246568|Playstation Netwo...|Digital_Video_Games|          5|            0|          0|   N|                Y|          Five Stars|               Super| 2015-08-31|\n",
            "|         US|   20715661|R2TX1KLPXXXNYS|B00K59HKIQ|     384246568|Playstation Netwo...|Digital_Video_Games|          5|            0|          0|   N|                Y|         Easy & Fast|Excellent, fast a...| 2015-08-31|\n",
            "|         US|   26540306|R1JEEW4C6R89BA|B00K59HKIQ|     384246568|Playstation Netwo...|Digital_Video_Games|          5|            0|          0|   N|                Y|          Five Stars|                  Ok| 2015-08-31|\n",
            "+-----------+-----------+--------------+----------+--------------+--------------------+-------------------+-----------+-------------+-----------+----+-----------------+--------------------+--------------------+-----------+\n",
            "only showing top 10 rows\n",
            "\n"
          ]
        }
      ]
    },
    {
      "cell_type": "code",
      "source": [
        "# Load in a sql function to use columns\n",
        "from pyspark.sql.functions import col\n",
        "\n",
        "# Filter for total votes 20 or more\n",
        "total_votes_20plus_df = df.filter(col(\"total_votes\") >= 20)\n",
        "total_votes_20plus_df.show(10)"
      ],
      "metadata": {
        "colab": {
          "base_uri": "https://localhost:8080/"
        },
        "id": "fqK-OY14gpMk",
        "outputId": "4c83a891-53a4-4d52-865b-a1c3232c8bbe"
      },
      "execution_count": 4,
      "outputs": [
        {
          "output_type": "stream",
          "name": "stdout",
          "text": [
            "+-----------+-----------+--------------+----------+--------------+--------------------+-------------------+-----------+-------------+-----------+----+-----------------+--------------------+--------------------+-----------+\n",
            "|marketplace|customer_id|     review_id|product_id|product_parent|       product_title|   product_category|star_rating|helpful_votes|total_votes|vine|verified_purchase|     review_headline|         review_body|review_date|\n",
            "+-----------+-----------+--------------+----------+--------------+--------------------+-------------------+-----------+-------------+-----------+----+-----------------+--------------------+--------------------+-----------+\n",
            "|         US|   12569493| RV4UH0OWW97K4|B0149HT55K|     947161997|Megaman Legacy Co...|Digital_Video_Games|          5|           19|         22|   N|                N|Mega Man Legacy C...|What is Mega Man?...| 2015-08-29|\n",
            "|         US|   40702997| RG6GT6G9WNYT1|B013XJ2M8M|     628348017|Rocket League [On...|Digital_Video_Games|          5|           22|         22|   N|                N|A multiplayer mas...|At its core, Rock...| 2015-08-22|\n",
            "|         US|   10139402| RFBXE3Q3GYQYO|B013XJ2M8M|     628348017|Rocket League [On...|Digital_Video_Games|          5|           68|         70|   N|                Y|Comes with Steam ...|When you buy this...| 2015-08-22|\n",
            "|         US|    2498805|R17V95WYC9ZXDD|B00WY2G178|     738740182|  Grand Theft Auto V|Digital_Video_Games|          1|            0|         20|   N|                Y|                 >:(|They name the gam...| 2015-08-17|\n",
            "|         US|   46312741|R235HEIYY15NZX|B013TVXHYC|     774364132|ARK: Survival Evo...|Digital_Video_Games|          1|            0|         26|   N|                Y|this sucks can't ...|this sucks can't ...| 2015-08-15|\n",
            "|         US|   11816220|R3BZ4DHX2YHC4V|B013TVXHYC|     774364132|ARK: Survival Evo...|Digital_Video_Games|          1|            1|         32|   N|                Y|            One Star|Terrible graphics...| 2015-08-15|\n",
            "|         US|    2158932| RZSC8Q4630BV1|B013TVXHYC|     774364132|ARK: Survival Evo...|Digital_Video_Games|          1|            1|         26|   N|                N|             1 Star!|The game code doe...| 2015-08-15|\n",
            "|         US|   22035782|R34S64NPUZOS90|B013TVXHYC|     774364132|ARK: Survival Evo...|Digital_Video_Games|          5|           23|         24|   N|                N|        Amazing game|[[VIDEOID:e5a8be6...| 2015-08-15|\n",
            "|         US|   21767922|R35O3GV3HZUX8B|B013TVXHYC|     774364132|ARK: Survival Evo...|Digital_Video_Games|          5|           58|         63|   N|                N|more than my mone...|This is definitel...| 2015-08-13|\n",
            "|         US|   47875352|R2AZAMZCEUOKQT|B00F4CF39C|     341969535| Xbox Live Gift Card|Digital_Video_Games|          1|           29|         40|   N|                Y|Complete waste of...|When I tried to r...| 2015-08-10|\n",
            "+-----------+-----------+--------------+----------+--------------+--------------------+-------------------+-----------+-------------+-----------+----+-----------------+--------------------+--------------------+-----------+\n",
            "only showing top 10 rows\n",
            "\n"
          ]
        }
      ]
    },
    {
      "cell_type": "code",
      "source": [
        "# Filter the data for helpful_votes/total_votes is 50% or more\n",
        "helpful_votes_50plus_df = total_votes_20plus_df.filter(col(\"helpful_votes\")/col(\"total_votes\") >= .50)\n",
        "helpful_votes_50plus_df.show(10)"
      ],
      "metadata": {
        "colab": {
          "base_uri": "https://localhost:8080/"
        },
        "id": "eoHgsEjmhYKa",
        "outputId": "5f07a9e9-09ae-4c34-c3cd-b1f6296f5c6e"
      },
      "execution_count": 5,
      "outputs": [
        {
          "output_type": "stream",
          "name": "stdout",
          "text": [
            "+-----------+-----------+--------------+----------+--------------+--------------------+-------------------+-----------+-------------+-----------+----+-----------------+--------------------+--------------------+-----------+\n",
            "|marketplace|customer_id|     review_id|product_id|product_parent|       product_title|   product_category|star_rating|helpful_votes|total_votes|vine|verified_purchase|     review_headline|         review_body|review_date|\n",
            "+-----------+-----------+--------------+----------+--------------+--------------------+-------------------+-----------+-------------+-----------+----+-----------------+--------------------+--------------------+-----------+\n",
            "|         US|   12569493| RV4UH0OWW97K4|B0149HT55K|     947161997|Megaman Legacy Co...|Digital_Video_Games|          5|           19|         22|   N|                N|Mega Man Legacy C...|What is Mega Man?...| 2015-08-29|\n",
            "|         US|   40702997| RG6GT6G9WNYT1|B013XJ2M8M|     628348017|Rocket League [On...|Digital_Video_Games|          5|           22|         22|   N|                N|A multiplayer mas...|At its core, Rock...| 2015-08-22|\n",
            "|         US|   10139402| RFBXE3Q3GYQYO|B013XJ2M8M|     628348017|Rocket League [On...|Digital_Video_Games|          5|           68|         70|   N|                Y|Comes with Steam ...|When you buy this...| 2015-08-22|\n",
            "|         US|   22035782|R34S64NPUZOS90|B013TVXHYC|     774364132|ARK: Survival Evo...|Digital_Video_Games|          5|           23|         24|   N|                N|        Amazing game|[[VIDEOID:e5a8be6...| 2015-08-15|\n",
            "|         US|   21767922|R35O3GV3HZUX8B|B013TVXHYC|     774364132|ARK: Survival Evo...|Digital_Video_Games|          5|           58|         63|   N|                N|more than my mone...|This is definitel...| 2015-08-13|\n",
            "|         US|   47875352|R2AZAMZCEUOKQT|B00F4CF39C|     341969535| Xbox Live Gift Card|Digital_Video_Games|          1|           29|         40|   N|                Y|Complete waste of...|When I tried to r...| 2015-08-10|\n",
            "|         US|   51358050|R103RUVEH5YWQ4|B00F4CFHFC|     341969535| Xbox Live Gift Card|Digital_Video_Games|          1|           69|         90|   N|                Y|  Code already used?|Getting error tel...| 2015-08-08|\n",
            "|         US|   25803630|R2QNPQLXMCXOH3|B010KYDNDG|     835376637|Minecraft for PC/...|Digital_Video_Games|          5|           35|         37|   N|                Y|Very simple to do...|I was very nervou...| 2015-08-06|\n",
            "|         US|   52685108| R1JENRRBQ1YMY|B010KYDNDG|     835376637|Minecraft for PC/...|Digital_Video_Games|          5|           35|         36|   N|                N|Can Never Get Tir...|I have played thi...| 2015-07-22|\n",
            "|         US|   45470246|R2NS0HPQ2DD5XU|B010GVEYYK|     987484751|  EA SPORTS PGA TOUR|Digital_Video_Games|          1|           35|         45|   N|                N|  Absolutely Amazing|This game is so a...| 2015-07-20|\n",
            "+-----------+-----------+--------------+----------+--------------+--------------------+-------------------+-----------+-------------+-----------+----+-----------------+--------------------+--------------------+-----------+\n",
            "only showing top 10 rows\n",
            "\n"
          ]
        }
      ]
    },
    {
      "cell_type": "code",
      "source": [
        "# Filter for data where there is a Vine review\n",
        "paid_vine_df = helpful_votes_50plus_df.filter(col(\"vine\") == 'Y')\n",
        "paid_vine_df.show()"
      ],
      "metadata": {
        "colab": {
          "base_uri": "https://localhost:8080/"
        },
        "id": "0c9xIvoTidgR",
        "outputId": "3770d685-29f9-4720-baa7-e09fc8a0f242"
      },
      "execution_count": 6,
      "outputs": [
        {
          "output_type": "stream",
          "name": "stdout",
          "text": [
            "+-----------+-----------+---------+----------+--------------+-------------+----------------+-----------+-------------+-----------+----+-----------------+---------------+-----------+-----------+\n",
            "|marketplace|customer_id|review_id|product_id|product_parent|product_title|product_category|star_rating|helpful_votes|total_votes|vine|verified_purchase|review_headline|review_body|review_date|\n",
            "+-----------+-----------+---------+----------+--------------+-------------+----------------+-----------+-------------+-----------+----+-----------------+---------------+-----------+-----------+\n",
            "+-----------+-----------+---------+----------+--------------+-------------+----------------+-----------+-------------+-----------+----+-----------------+---------------+-----------+-----------+\n",
            "\n"
          ]
        }
      ]
    },
    {
      "cell_type": "code",
      "source": [
        "# Filter for data where there isn’t a Vine review\n",
        "unpaid_vine_df = helpful_votes_50plus_df.filter(col(\"vine\") == 'N')\n",
        "unpaid_vine_df.show(10)"
      ],
      "metadata": {
        "colab": {
          "base_uri": "https://localhost:8080/"
        },
        "id": "4RdTyu0DjIsA",
        "outputId": "27882d4a-0829-4758-ef4f-4674b1790a52"
      },
      "execution_count": 7,
      "outputs": [
        {
          "output_type": "stream",
          "name": "stdout",
          "text": [
            "+-----------+-----------+--------------+----------+--------------+--------------------+-------------------+-----------+-------------+-----------+----+-----------------+--------------------+--------------------+-----------+\n",
            "|marketplace|customer_id|     review_id|product_id|product_parent|       product_title|   product_category|star_rating|helpful_votes|total_votes|vine|verified_purchase|     review_headline|         review_body|review_date|\n",
            "+-----------+-----------+--------------+----------+--------------+--------------------+-------------------+-----------+-------------+-----------+----+-----------------+--------------------+--------------------+-----------+\n",
            "|         US|   12569493| RV4UH0OWW97K4|B0149HT55K|     947161997|Megaman Legacy Co...|Digital_Video_Games|          5|           19|         22|   N|                N|Mega Man Legacy C...|What is Mega Man?...| 2015-08-29|\n",
            "|         US|   40702997| RG6GT6G9WNYT1|B013XJ2M8M|     628348017|Rocket League [On...|Digital_Video_Games|          5|           22|         22|   N|                N|A multiplayer mas...|At its core, Rock...| 2015-08-22|\n",
            "|         US|   10139402| RFBXE3Q3GYQYO|B013XJ2M8M|     628348017|Rocket League [On...|Digital_Video_Games|          5|           68|         70|   N|                Y|Comes with Steam ...|When you buy this...| 2015-08-22|\n",
            "|         US|   22035782|R34S64NPUZOS90|B013TVXHYC|     774364132|ARK: Survival Evo...|Digital_Video_Games|          5|           23|         24|   N|                N|        Amazing game|[[VIDEOID:e5a8be6...| 2015-08-15|\n",
            "|         US|   21767922|R35O3GV3HZUX8B|B013TVXHYC|     774364132|ARK: Survival Evo...|Digital_Video_Games|          5|           58|         63|   N|                N|more than my mone...|This is definitel...| 2015-08-13|\n",
            "|         US|   47875352|R2AZAMZCEUOKQT|B00F4CF39C|     341969535| Xbox Live Gift Card|Digital_Video_Games|          1|           29|         40|   N|                Y|Complete waste of...|When I tried to r...| 2015-08-10|\n",
            "|         US|   51358050|R103RUVEH5YWQ4|B00F4CFHFC|     341969535| Xbox Live Gift Card|Digital_Video_Games|          1|           69|         90|   N|                Y|  Code already used?|Getting error tel...| 2015-08-08|\n",
            "|         US|   25803630|R2QNPQLXMCXOH3|B010KYDNDG|     835376637|Minecraft for PC/...|Digital_Video_Games|          5|           35|         37|   N|                Y|Very simple to do...|I was very nervou...| 2015-08-06|\n",
            "|         US|   52685108| R1JENRRBQ1YMY|B010KYDNDG|     835376637|Minecraft for PC/...|Digital_Video_Games|          5|           35|         36|   N|                N|Can Never Get Tir...|I have played thi...| 2015-07-22|\n",
            "|         US|   45470246|R2NS0HPQ2DD5XU|B010GVEYYK|     987484751|  EA SPORTS PGA TOUR|Digital_Video_Games|          1|           35|         45|   N|                N|  Absolutely Amazing|This game is so a...| 2015-07-20|\n",
            "+-----------+-----------+--------------+----------+--------------+--------------------+-------------------+-----------+-------------+-----------+----+-----------------+--------------------+--------------------+-----------+\n",
            "only showing top 10 rows\n",
            "\n"
          ]
        }
      ]
    },
    {
      "cell_type": "code",
      "source": [
        "# Finding total # of review paid\n",
        "paid_vine_df.count()"
      ],
      "metadata": {
        "colab": {
          "base_uri": "https://localhost:8080/"
        },
        "id": "fuK5E_GoocHx",
        "outputId": "57778b0b-775f-4ae4-c2c2-f41a4052abd2"
      },
      "execution_count": 8,
      "outputs": [
        {
          "output_type": "execute_result",
          "data": {
            "text/plain": [
              "0"
            ]
          },
          "metadata": {},
          "execution_count": 8
        }
      ]
    },
    {
      "cell_type": "code",
      "source": [
        "# Finding total # of 5-star reviews paid\n",
        "paid_star_rating_df = paid_vine_df.filter(col(\"star_rating\") == 5)\n",
        "paid_star_rating_df.count()"
      ],
      "metadata": {
        "colab": {
          "base_uri": "https://localhost:8080/"
        },
        "id": "yihEi6yypJkq",
        "outputId": "e94287fa-d40b-4647-c6ac-5db6f50ebdce"
      },
      "execution_count": 9,
      "outputs": [
        {
          "output_type": "execute_result",
          "data": {
            "text/plain": [
              "0"
            ]
          },
          "metadata": {},
          "execution_count": 9
        }
      ]
    },
    {
      "cell_type": "code",
      "source": [
        "# Finding total # of review unpaid\n",
        "unpaid_vine_df.count()"
      ],
      "metadata": {
        "colab": {
          "base_uri": "https://localhost:8080/"
        },
        "id": "5lZ5CuCwpP1U",
        "outputId": "a0ed202a-6651-49ae-ab5b-f59d9dd76193"
      },
      "execution_count": 10,
      "outputs": [
        {
          "output_type": "execute_result",
          "data": {
            "text/plain": [
              "1685"
            ]
          },
          "metadata": {},
          "execution_count": 10
        }
      ]
    },
    {
      "cell_type": "code",
      "source": [
        "# Finding total # of 5-star reviews unpaid\n",
        "unpaid_star_rating_df = unpaid_vine_df.filter(col(\"star_rating\") == 5)\n",
        "unpaid_star_rating_df.count()"
      ],
      "metadata": {
        "colab": {
          "base_uri": "https://localhost:8080/"
        },
        "id": "SK6AicGmpSFG",
        "outputId": "c332e8d3-9d92-4052-e3f4-3e2350f83bc9"
      },
      "execution_count": 11,
      "outputs": [
        {
          "output_type": "execute_result",
          "data": {
            "text/plain": [
              "631"
            ]
          },
          "metadata": {},
          "execution_count": 11
        }
      ]
    },
    {
      "cell_type": "code",
      "source": [
        "# Finding percentage of 5-star reviews unpaid\n",
        "percent_unpaid = (unpaid_star_rating_df.count()/unpaid_vine_df.count())*100\n",
        "print(\"Percentage of 5-star reviews for unpaid Vine program was: %f\" % percent_unpaid + \"%\")"
      ],
      "metadata": {
        "colab": {
          "base_uri": "https://localhost:8080/"
        },
        "id": "iu1uGsYGpVOF",
        "outputId": "7e637ba1-645d-4023-cf89-8fe46e775952"
      },
      "execution_count": 12,
      "outputs": [
        {
          "output_type": "stream",
          "name": "stdout",
          "text": [
            "Percentage of 5-star reviews for unpaid Vine program was: 37.448071%\n"
          ]
        }
      ]
    }
  ]
}